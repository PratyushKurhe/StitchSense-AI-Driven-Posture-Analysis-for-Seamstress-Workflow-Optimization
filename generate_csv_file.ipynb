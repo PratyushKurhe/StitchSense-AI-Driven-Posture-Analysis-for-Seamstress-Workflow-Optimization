{
 "cells": [
  {
   "cell_type": "code",
   "execution_count": null,
   "id": "993611fc",
   "metadata": {},
   "outputs": [],
   "source": [
    "!pip install openpyxl"
   ]
  },
  {
   "cell_type": "code",
   "execution_count": 21,
   "id": "bf242c63",
   "metadata": {},
   "outputs": [],
   "source": [
    "import openpyxl\n",
    "from openpyxl import load_workbook"
   ]
  },
  {
   "cell_type": "code",
   "execution_count": 22,
   "id": "8f11b5eb",
   "metadata": {},
   "outputs": [],
   "source": [
    "# Create a new Workbook\n",
    "wb = openpyxl.Workbook()\n",
    "\n",
    "# Select the active sheet\n",
    "sheet = wb.active\n",
    "\n",
    "# Name the sheet\n",
    "sheet.title = \"activity_detail\"\n",
    "\n",
    "# Add some data\n",
    "sheet['A1'] = \"FrameNo\"\n",
    "sheet['B1'] = \"Activity\"\n",
    "\n",
    "# Save the workbook to a file\n",
    "wb.save(\"ActivityDetail.xlsx\")"
   ]
  },
  {
   "cell_type": "code",
   "execution_count": 23,
   "id": "84dcdc34",
   "metadata": {},
   "outputs": [],
   "source": [
    "file_path = 'ActivityDetail.xlsx'\n",
    "workbook = load_workbook(file_path) #Loaded the file to update the variables cells in the file"
   ]
  },
  {
   "cell_type": "code",
   "execution_count": 24,
   "id": "872c081e",
   "metadata": {},
   "outputs": [],
   "source": [
    "worksheet=workbook.active\n",
    "#worksheet.cell(row=i+2, column=3, value=count) "
   ]
  },
  {
   "cell_type": "code",
   "execution_count": null,
   "id": "429037a1",
   "metadata": {},
   "outputs": [],
   "source": [
    "import imageio\n",
    "import cv2\n",
    "from PIL import Image, ImageDraw, ImageFont         \n",
    "import ultralytics\n",
    "from ultralytics import YOLO\n",
    "model=YOLO(\"yolov8n-pose.pt\")    \n",
    "\n",
    "cap=cv2.VideoCapture(\"D:\\\\ResoluteAI\\\\Pose_Estimation\\\\ProjectVid1.mp4\")\n",
    "fps=cap.get(cv2.CAP_PROP_FPS)\n",
    "\n",
    "\n",
    "frame_count=cap.get(cv2.CAP_PROP_FRAME_COUNT)\n",
    "frame_number=0\n",
    "cap.set(cv2.CAP_PROP_POS_FRAMES, frame_number)\n",
    "success, image1=cap.read()\n",
    "\n",
    "\n",
    "while success:\n",
    "    results=model(image1)\n",
    "    if results[0].keypoints.data[0][9][0]>=728 and results[0].keypoints.data[0][9][0]<=1102 and results[0].keypoints.data[0][9][1]>=755 and results[0].keypoints.data[0][9][1]<=1044 :\n",
    "        worksheet.cell(row=frame_number+2, column=1, value=frame_number) \n",
    "        worksheet.cell(row=frame_number+2, column=2, value=\"Sewing\") \n",
    "        frame_number+=1\n",
    "        cap.set(cv2.CAP_PROP_POS_FRAMES, frame_number)      \n",
    "        success, image1=cap.read()\n",
    "        print(\"Hello1 frameNo: \", frame_number)\n",
    "    elif results[0].keypoints.data[0][9][0]>=1201 and results[0].keypoints.data[0][9][0]<=1480 and results[0].keypoints.data[0][9][1]>=384 and results[0].keypoints.data[0][9][1]<=750 :\n",
    "        worksheet.cell(row=frame_number+2, column=1, value=frame_number) \n",
    "        worksheet.cell(row=frame_number+2, column=2, value=\"Placing\") \n",
    "        frame_number+=1\n",
    "        cap.set(cv2.CAP_PROP_POS_FRAMES, frame_number)\n",
    "        success, image1=cap.read()\n",
    "        print(\"Hello2 frameNo: \", frame_number)\n",
    "    elif results[0].keypoints.data[0][9][0]>=446 and results[0].keypoints.data[0][9][0]<=1480 and results[0].keypoints.data[0][9][1]>=30 and results[0].keypoints.data[0][9][1]<=1060 :\n",
    "        worksheet.cell(row=frame_number+2, column=1, value=frame_number) \n",
    "        worksheet.cell(row=frame_number+2, column=2, value=\"Material Handling\") \n",
    "        frame_number+=1\n",
    "        cap.set(cv2.CAP_PROP_POS_FRAMES, frame_number)\n",
    "        success, image1=cap.read()\n",
    "        print(\"Hello3 frameNo: \", frame_number)\n",
    "    else:\n",
    "        print(\"Ok\")\n",
    "\n",
    "\n",
    "workbook.save(file_path)\n",
    "\n",
    "\n"
   ]
  },
  {
   "cell_type": "code",
   "execution_count": 27,
   "id": "26df3d48",
   "metadata": {},
   "outputs": [],
   "source": [
    "for row in worksheet.iter_rows():\n",
    "    for cell in row:\n",
    "        cell.value = None             \n",
    "        "
   ]
  }
 ],
 "metadata": {
  "kernelspec": {
   "display_name": "Python 3 (ipykernel)",
   "language": "python",
   "name": "python3"
  },
  "language_info": {
   "codemirror_mode": {
    "name": "ipython",
    "version": 3
   },
   "file_extension": ".py",
   "mimetype": "text/x-python",
   "name": "python",
   "nbconvert_exporter": "python",
   "pygments_lexer": "ipython3",
   "version": "3.11.5"
  }
 },
 "nbformat": 4,
 "nbformat_minor": 5
}
